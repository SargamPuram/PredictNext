{
 "cells": [
  {
   "cell_type": "code",
   "execution_count": 1,
   "metadata": {},
   "outputs": [],
   "source": [
    "from sklearn.ensemble import RandomForestRegressor, GradientBoostingRegressor\n",
    "from sklearn.linear_model import LinearRegression\n",
    "from sklearn.metrics import mean_absolute_error, mean_squared_error, r2_score\n"
   ]
  },
  {
   "cell_type": "code",
   "execution_count": 18,
   "metadata": {},
   "outputs": [],
   "source": [
    "# Initialize the models\n",
    "models = {\n",
    "    \"Random Forest\": RandomForestRegressor(n_estimators=100, random_state=42),\n",
    "    \"Gradient Boosting\": GradientBoostingRegressor(n_estimators=100, random_state=42),\n",
    "    \"Linear Regression\": LinearRegression()\n",
    "}"
   ]
  },
  {
   "cell_type": "code",
   "execution_count": 2,
   "metadata": {},
   "outputs": [
    {
     "name": "stdout",
     "output_type": "stream",
     "text": [
      "X_train data types after conversion:\n",
      "CustomerID           int64\n",
      "Quantity           float64\n",
      "UnitPrice          float64\n",
      "StockCode_10080       bool\n",
      "StockCode_10120       bool\n",
      "                    ...   \n",
      "StockCode_PADS        bool\n",
      "StockCode_POST        bool\n",
      "InvoiceYear          int32\n",
      "InvoiceMonth         int32\n",
      "InvoiceDay           int32\n",
      "Length: 3205, dtype: object\n",
      "Missing values in features:\n",
      "CustomerID         0\n",
      "Quantity           0\n",
      "UnitPrice          0\n",
      "StockCode_10080    0\n",
      "StockCode_10120    0\n",
      "                  ..\n",
      "StockCode_PADS     0\n",
      "StockCode_POST     0\n",
      "InvoiceYear        0\n",
      "InvoiceMonth       0\n",
      "InvoiceDay         0\n",
      "Length: 3205, dtype: int64\n",
      "Missing values in target:\n",
      "0\n"
     ]
    }
   ],
   "source": [
    "import pickle\n",
    "import pandas as pd\n",
    "\n",
    "# Load the datasets from the saved file\n",
    "with open('train_test_data.pkl', 'rb') as f:\n",
    "    X_train, y_train, X_test, y_test = pickle.load(f)\n",
    "\n",
    "# Convert 'InvoiceDate' to datetime if it is not already\n",
    "X_train['InvoiceDate'] = pd.to_datetime(X_train['InvoiceDate'], errors='coerce')\n",
    "X_test['InvoiceDate'] = pd.to_datetime(X_test['InvoiceDate'], errors='coerce')\n",
    "\n",
    "# Extract year, month, day from the InvoiceDate before converting to timestamp\n",
    "X_train['InvoiceYear'] = X_train['InvoiceDate'].dt.year\n",
    "X_train['InvoiceMonth'] = X_train['InvoiceDate'].dt.month\n",
    "X_train['InvoiceDay'] = X_train['InvoiceDate'].dt.day\n",
    "\n",
    "X_test['InvoiceYear'] = X_test['InvoiceDate'].dt.year\n",
    "X_test['InvoiceMonth'] = X_test['InvoiceDate'].dt.month\n",
    "X_test['InvoiceDay'] = X_test['InvoiceDate'].dt.day\n",
    "\n",
    "# After extracting the date features, you can drop the 'InvoiceDate' column if you no longer need it\n",
    "X_train = X_train.drop(columns=['InvoiceDate'])\n",
    "X_test = X_test.drop(columns=['InvoiceDate'])\n",
    "\n",
    "# Verify data types after conversion\n",
    "print(\"X_train data types after conversion:\")\n",
    "print(X_train.dtypes)\n",
    "\n",
    "# Check for NaN values\n",
    "print(\"Missing values in features:\")\n",
    "print(X_train.isnull().sum())  # Check for missing values in features\n",
    "print(\"Missing values in target:\")\n",
    "print(y_train.isnull().sum())  # Check for missing values in target"
   ]
  },
  {
   "cell_type": "code",
   "execution_count": 3,
   "metadata": {},
   "outputs": [
    {
     "name": "stdout",
     "output_type": "stream",
     "text": [
      "Training Random Forest...\n",
      "Random Forest - MAE: 437.7381, MSE: 201864.3919, RMSE: 449.2932, R^2: 0.0008\n",
      "\n",
      "Training Gradient Boosting...\n",
      "Gradient Boosting - MAE: 438.3029, MSE: 201833.3010, RMSE: 449.2586, R^2: 0.0009\n",
      "\n"
     ]
    }
   ],
   "source": [
    "# Define models\n",
    "models = {\n",
    "    'Random Forest': RandomForestRegressor(),\n",
    "    'Gradient Boosting': GradientBoostingRegressor()\n",
    "}\n",
    "\n",
    "# Train and evaluate models\n",
    "for model_name, model in models.items():\n",
    "    print(f\"Training {model_name}...\")\n",
    "\n",
    "    # Train the model\n",
    "    model.fit(X_train, y_train)\n",
    "    \n",
    "    # Predict on the test set\n",
    "    y_pred = model.predict(X_test)\n",
    "    \n",
    "    # Evaluate the model\n",
    "    mae = mean_absolute_error(y_test, y_pred)\n",
    "    mse = mean_squared_error(y_test, y_pred)\n",
    "    rmse = mse ** 0.5\n",
    "    r2 = r2_score(y_test, y_pred)\n",
    "\n",
    "    # Print evaluation metrics\n",
    "    print(f\"{model_name} - MAE: {mae:.4f}, MSE: {mse:.4f}, RMSE: {rmse:.4f}, R^2: {r2:.4f}\\n\")"
   ]
  },
  {
   "cell_type": "code",
   "execution_count": 4,
   "metadata": {},
   "outputs": [
    {
     "name": "stdout",
     "output_type": "stream",
     "text": [
      "count    105166.000000\n",
      "mean        453.159253\n",
      "std         449.118386\n",
      "min           0.000000\n",
      "25%          65.000000\n",
      "50%         148.000000\n",
      "75%         999.000000\n",
      "max         999.000000\n",
      "Name: Target, dtype: float64\n"
     ]
    }
   ],
   "source": [
    "print(y_train.describe())  # Check the distribution of target values\n"
   ]
  }
 ],
 "metadata": {
  "kernelspec": {
   "display_name": "venv",
   "language": "python",
   "name": "python3"
  },
  "language_info": {
   "codemirror_mode": {
    "name": "ipython",
    "version": 3
   },
   "file_extension": ".py",
   "mimetype": "text/x-python",
   "name": "python",
   "nbconvert_exporter": "python",
   "pygments_lexer": "ipython3",
   "version": "3.12.7"
  }
 },
 "nbformat": 4,
 "nbformat_minor": 2
}
